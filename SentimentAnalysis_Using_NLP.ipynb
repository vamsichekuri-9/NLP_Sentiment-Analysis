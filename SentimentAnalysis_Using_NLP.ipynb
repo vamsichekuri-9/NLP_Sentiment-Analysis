{
 "cells": [
  {
   "cell_type": "markdown",
   "id": "07d94e7e",
   "metadata": {},
   "source": [
    "## Part 1-Sentiment Analysis using TextBlob"
   ]
  },
  {
   "cell_type": "code",
   "execution_count": null,
   "id": "85715b00",
   "metadata": {},
   "outputs": [],
   "source": [
    "# Import necessary libraries for TextBlob\n",
    "from textblob import TextBlob\n",
    "import os\n",
    "import matplotlib.pyplot as plt\n",
    "import pandas as pd"
   ]
  },
  {
   "cell_type": "code",
   "execution_count": 4,
   "id": "bac294f1",
   "metadata": {},
   "outputs": [],
   "source": [
    "# Function to analyze sentiment using TextBlob\n",
    "def analyze_sentiment_textblob(text):\n",
    "    analysis = TextBlob(text)\n",
    "    return analysis.sentiment.polarity\n",
    "\n",
    "# Function to read texts from a folder\n",
    "def read_texts_from_folder(folder_path):\n",
    "    texts = []\n",
    "    for filename in os.listdir(folder_path):\n",
    "        if filename.endswith('.txt'):\n",
    "            with open(os.path.join(folder_path, filename), 'r', encoding='utf-8') as file:\n",
    "                texts.append(file.read())\n",
    "    return texts"
   ]
  },
  {
   "cell_type": "code",
   "execution_count": 6,
   "id": "c1159efd",
   "metadata": {},
   "outputs": [],
   "source": [
    "# Folder paths for TextBlob\n",
    "positive_folder_path_textblob = '/Users/vamcchekuri/Desktop/txt_sentoken/pos'\n",
    "negative_folder_path_textblob = '/Users/vamcchekuri/Desktop/txt_sentoken/neg'"
   ]
  },
  {
   "cell_type": "code",
   "execution_count": 7,
   "id": "991d7637",
   "metadata": {},
   "outputs": [],
   "source": [
    "# Load data from folders for TextBlob\n",
    "positive_texts_textblob = read_texts_from_folder(positive_folder_path_textblob)\n",
    "negative_texts_textblob = read_texts_from_folder(negative_folder_path_textblob)"
   ]
  },
  {
   "cell_type": "code",
   "execution_count": 8,
   "id": "d30a16fb",
   "metadata": {},
   "outputs": [],
   "source": [
    "# Perform sentiment analysis using TextBlob\n",
    "positive_scores_textblob = [analyze_sentiment_textblob(text) for text in positive_texts_textblob]\n",
    "negative_scores_textblob = [analyze_sentiment_textblob(text) for text in negative_texts_textblob]"
   ]
  },
  {
   "cell_type": "code",
   "execution_count": 9,
   "id": "90596570",
   "metadata": {},
   "outputs": [
    {
     "name": "stdout",
     "output_type": "stream",
     "text": [
      "TextBlob Sentiment Analysis\n",
      "Positive Texts Accuracy: 97.10%\n",
      "Negative Texts Accuracy: 22.90%\n"
     ]
    }
   ],
   "source": [
    "# Calculate accuracy for TextBlob\n",
    "positive_accuracy_textblob = sum(score > 0 for score in positive_scores_textblob) / len(positive_scores_textblob)\n",
    "negative_accuracy_textblob = sum(score < 0 for score in negative_scores_textblob) / len(negative_scores_textblob)\n",
    "\n",
    "# Print report for TextBlob\n",
    "print(\"TextBlob Sentiment Analysis\")\n",
    "print(\"Positive Texts Accuracy: {:.2%}\".format(positive_accuracy_textblob))\n",
    "print(\"Negative Texts Accuracy: {:.2%}\".format(negative_accuracy_textblob))\n"
   ]
  },
  {
   "cell_type": "markdown",
   "id": "00e271b8",
   "metadata": {},
   "source": [
    "-------------------------------------------------------------------------------------------------------------------"
   ]
  },
  {
   "cell_type": "markdown",
   "id": "bfc40347",
   "metadata": {},
   "source": [
    "**Report for part 1(Using Textblob):**\n",
    "                           \n",
    "                           TextBlob, a straightforward Python library for processing textual data, was employed to perform sentiment analysis on a dataset comprising 1000 positive and 1000 negative text samples. Utilizing TextBlob's sentiment analysis capabilities, each text was evaluated for polarity. A polarity score greater than 0 indicates a positive sentiment, less than 0 indicates a negative sentiment, and a score of 0 signifies neutrality.\n",
    "\n",
    "Results:\n",
    "\n",
    "Positive Texts: The analysis revealed an impressive accuracy of 97.10% in correctly identifying positive sentiments, showcasing TextBlob's strength in recognizing clear, positive expressions.\n",
    "\n",
    "Negative Texts: In contrast, the accuracy for negative texts was significantly lower, at 22.90%. This suggests challenges in accurately detecting negative sentiments or nuances.\n",
    "Observations\n",
    "\n",
    "***TextBlob's high performance in positive sentiment detection highlights its effectiveness in scenarios with straightforward, clear-cut sentiments.\n",
    "The marked discrepancy in its ability to handle negative sentiments points to potential limitations in dealing with complex or subtly expressed emotions.***\n"
   ]
  },
  {
   "cell_type": "markdown",
   "id": "b2eec979",
   "metadata": {},
   "source": [
    "#### --------------------------------------------------------------------------------------------------------------------------------------------------------------------------"
   ]
  },
  {
   "cell_type": "markdown",
   "id": "82c03cb1",
   "metadata": {},
   "source": [
    "## Part 2- Sentiment Analysis using Vader"
   ]
  },
  {
   "cell_type": "code",
   "execution_count": 12,
   "id": "9c85ac5f",
   "metadata": {},
   "outputs": [
    {
     "name": "stdout",
     "output_type": "stream",
     "text": [
      "Collecting vaderSentiment\n",
      "  Downloading vaderSentiment-3.3.2-py2.py3-none-any.whl (125 kB)\n",
      "\u001b[K     |████████████████████████████████| 125 kB 4.1 MB/s eta 0:00:01\n",
      "\u001b[?25hRequirement already satisfied: requests in ./opt/anaconda3/lib/python3.8/site-packages (from vaderSentiment) (2.25.1)\n",
      "Requirement already satisfied: idna<3,>=2.5 in ./opt/anaconda3/lib/python3.8/site-packages (from requests->vaderSentiment) (2.10)\n",
      "Requirement already satisfied: certifi>=2017.4.17 in ./opt/anaconda3/lib/python3.8/site-packages (from requests->vaderSentiment) (2020.12.5)\n",
      "Requirement already satisfied: chardet<5,>=3.0.2 in ./opt/anaconda3/lib/python3.8/site-packages (from requests->vaderSentiment) (4.0.0)\n",
      "Requirement already satisfied: urllib3<1.27,>=1.21.1 in ./opt/anaconda3/lib/python3.8/site-packages (from requests->vaderSentiment) (1.26.4)\n",
      "Installing collected packages: vaderSentiment\n",
      "Successfully installed vaderSentiment-3.3.2\n"
     ]
    }
   ],
   "source": [
    "!pip install vaderSentiment"
   ]
  },
  {
   "cell_type": "code",
   "execution_count": 14,
   "id": "520bffc4",
   "metadata": {},
   "outputs": [],
   "source": [
    "# Import necessary libraries for VADER\n",
    "from vaderSentiment.vaderSentiment import SentimentIntensityAnalyzer"
   ]
  },
  {
   "cell_type": "code",
   "execution_count": 15,
   "id": "d2b416e7",
   "metadata": {},
   "outputs": [],
   "source": [
    "# Function to analyze sentiment using VADER\n",
    "def analyze_sentiment_vader(text):\n",
    "    analyzer = SentimentIntensityAnalyzer()\n",
    "    sentiment = analyzer.polarity_scores(text)\n",
    "    return sentiment['compound']"
   ]
  },
  {
   "cell_type": "code",
   "execution_count": 16,
   "id": "ab31bea7",
   "metadata": {},
   "outputs": [],
   "source": [
    "# Folder paths for VADER\n",
    "positive_folder_path_vader = '/Users/vamcchekuri/Desktop/txt_sentoken/pos'\n",
    "negative_folder_path_vader = '/Users/vamcchekuri/Desktop/txt_sentoken/neg'"
   ]
  },
  {
   "cell_type": "code",
   "execution_count": 17,
   "id": "084f8828",
   "metadata": {},
   "outputs": [],
   "source": [
    "# Reuse the function 'read_texts_from_folder' to load data for VADER\n",
    "positive_texts_vader = read_texts_from_folder(positive_folder_path_vader)\n",
    "negative_texts_vader = read_texts_from_folder(negative_folder_path_vader)"
   ]
  },
  {
   "cell_type": "code",
   "execution_count": 18,
   "id": "dea8c9fb",
   "metadata": {},
   "outputs": [],
   "source": [
    "# Perform sentiment analysis using VADER\n",
    "positive_scores_vader = [analyze_sentiment_vader(text) for text in positive_texts_vader]\n",
    "negative_scores_vader = [analyze_sentiment_vader(text) for text in negative_texts_vader]"
   ]
  },
  {
   "cell_type": "code",
   "execution_count": 19,
   "id": "673fbd53",
   "metadata": {},
   "outputs": [
    {
     "name": "stdout",
     "output_type": "stream",
     "text": [
      "VADER Sentiment Analysis\n",
      "Positive Texts Accuracy: 84.30%\n",
      "Negative Texts Accuracy: 43.50%\n"
     ]
    }
   ],
   "source": [
    "# Calculate accuracy for VADER\n",
    "positive_accuracy_vader = sum(score > 0 for score in positive_scores_vader) / len(positive_scores_vader)\n",
    "negative_accuracy_vader = sum(score < 0 for score in negative_scores_vader) / len(negative_scores_vader)\n",
    "\n",
    "# Print report for VADER\n",
    "print(\"VADER Sentiment Analysis\")\n",
    "print(\"Positive Texts Accuracy: {:.2%}\".format(positive_accuracy_vader))\n",
    "print(\"Negative Texts Accuracy: {:.2%}\".format(negative_accuracy_vader))"
   ]
  },
  {
   "cell_type": "markdown",
   "id": "63880617",
   "metadata": {},
   "source": [
    "-------------------------------------------------------------------------------------------------------------------"
   ]
  },
  {
   "cell_type": "markdown",
   "id": "af247c16",
   "metadata": {},
   "source": [
    "**Report for part 2(Using VADER):**\n",
    "                           \n",
    "                           VADER, a lexicon and rule-based sentiment analysis tool, is tailored for sentiments expressed in informal text, like social media. It was used to analyze the same dataset of 1000 positive and 1000 negative texts. VADER's sentiment analysis provides a compound score to summarize the sentiment of the text. Positive scores indicate positive sentiment, negative scores for negative sentiment, and scores around 0 for neutrality. Surprisingly VADER takes lot more time to execute and get results when compared the time lapse with text blob.\n",
    "\n",
    "Results\n",
    "\n",
    "Positive Texts: VADER achieved an 84.30% accuracy in identifying positive sentiments, demonstrating its capability but with a slightly lower proficiency compared to TextBlob.\n",
    "\n",
    "Negative Texts: More notably, it showed a significantly higher accuracy of 43.50% for negative texts, outperforming TextBlob in this aspect.\n",
    "Observations\n",
    "\n",
    "***VADER's balanced performance in analyzing both positive and negative sentiments underscores its adaptability and strength in handling a variety of textual contexts.\n",
    "The tool's nuanced understanding of informal, colloquial language likely contributes to its more effective identification of negative sentiments.***"
   ]
  },
  {
   "cell_type": "markdown",
   "id": "d6da2ed1",
   "metadata": {},
   "source": [
    "#### --------------------------------------------------------------------------------------------------------------------------------------------------------------------------"
   ]
  },
  {
   "cell_type": "markdown",
   "id": "b5301aa9",
   "metadata": {},
   "source": [
    "### Comparision and Visualization of these two tools performance"
   ]
  },
  {
   "cell_type": "code",
   "execution_count": 27,
   "id": "f9fd8df7",
   "metadata": {},
   "outputs": [],
   "source": [
    "# Provided accuracy results\n",
    "textblob_accuracies = [0.9710, 0.2290]  # TextBlob accuracies for positive and negative texts\n",
    "vader_accuracies = [0.8430, 0.4350]     # VADER accuracies for positive and negative texts\n",
    "\n",
    "# Prepare data for comparison\n",
    "data = {\n",
    "    'TextBlob': textblob_accuracies,\n",
    "    'VADER': vader_accuracies\n",
    "}"
   ]
  },
  {
   "cell_type": "code",
   "execution_count": 28,
   "id": "3f94bd2f",
   "metadata": {},
   "outputs": [
    {
     "data": {
      "image/png": "[encoded data removed]",
      "text/plain": [
       "<Figure size 720x432 with 1 Axes>"
      ]
     },
     "metadata": {
      "needs_background": "light"
     },
     "output_type": "display_data"
    }
   ],
   "source": [
    "# Create a DataFrame for easier plotting\n",
    "df = pd.DataFrame(data, index=['Positive Accuracy', 'Negative Accuracy'])\n",
    "\n",
    "# Plotting\n",
    "df.plot(kind='bar', figsize=(10, 6))\n",
    "plt.title('Comparison of Sentiment Analysis Accuracy: TextBlob vs VADER')\n",
    "plt.ylabel('Accuracy')\n",
    "plt.xlabel('Type of Sentiment')\n",
    "plt.xticks(rotation=0)  # To keep the x-labels horizontal for readability\n",
    "plt.legend(title='Sentiment Analysis Tool')\n",
    "plt.ylim(0, 1)  # Set y-axis limit to represent accuracies as percentages\n",
    "plt.show()"
   ]
  },
  {
   "cell_type": "markdown",
   "id": "faaf10a0",
   "metadata": {},
   "source": [
    "-------------------------------------------------------------------------------------------------------------------"
   ]
  },
  {
   "cell_type": "markdown",
   "id": "62618638",
   "metadata": {},
   "source": [
    "***ANALYSIS-***\n",
    "\n",
    "The comparative analysis of TextBlob and VADER showcases distinct strengths and weaknesses in sentiment analysis tasks. TextBlob excelled in identifying positive sentiments with a remarkable accuracy of 97.10%, but its performance dropped significantly when analyzing negative sentiments, with an accuracy of only 22.90%. In contrast, VADER presented a more balanced approach, achieving 84.30% accuracy for positive sentiments and a notably higher 43.50% accuracy for negative sentiments.\n",
    "\n",
    "***INSIGHTS-***\n",
    "\n",
    "TextBlob's high accuracy in positive sentiment detection makes it a suitable choice for applications where the primary goal is to identify positive expressions, such as customer satisfaction surveys.\n",
    "\n",
    "VADER's balanced accuracy across both sentiment types, particularly its superior performance in detecting negative sentiments, makes it a versatile tool for diverse applications, including social media analysis and market research.\n",
    "\n",
    "The choice between TextBlob and VADER should be influenced by the specific requirements of the sentiment analysis task and the nature of the text data.\n",
    "\n",
    "***Conclusion***\n",
    "\n",
    "In conclusion, while TextBlob shows exceptional ability in identifying positive sentiments, VADER's strength lies in its balanced performance and nuanced understanding of both positive and negative sentiments. The selection of the appropriate tool thus depends on the specific needs and nature of the sentiment analysis task at hand."
   ]
  }
 ],
 "metadata": {
  "kernelspec": {
   "display_name": "Python 3",
   "language": "python",
   "name": "python3"
  },
  "language_info": {
   "codemirror_mode": {
    "name": "ipython",
    "version": 3
   },
   "file_extension": ".py",
   "mimetype": "text/x-python",
   "name": "python",
   "nbconvert_exporter": "python",
   "pygments_lexer": "ipython3",
   "version": "3.8.8"
  }
 },
 "nbformat": 4,
 "nbformat_minor": 5
}
